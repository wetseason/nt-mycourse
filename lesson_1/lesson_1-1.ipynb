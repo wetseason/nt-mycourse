{
 "cells": [
  {
   "cell_type": "markdown",
   "metadata": {},
   "source": [
    "# Lesson 1 - Introduction to Python"
   ]
  },
  {
   "cell_type": "markdown",
   "metadata": {},
   "source": [
    "![python](https://www.vizteams.com/wp-content/uploads/2013/08/python-logo-master.png)"
   ]
  },
  {
   "cell_type": "markdown",
   "metadata": {},
   "source": [
    "## Welcome to Data Analytics with Python - Day 1"
   ]
  },
  {
   "cell_type": "markdown",
   "metadata": {},
   "source": [
    "![data](https://media.giphy.com/media/3oKIPEqDGUULpEU0aQ/giphy.gif)"
   ]
  },
  {
   "cell_type": "markdown",
   "metadata": {},
   "source": [
    "I. Outline for the session  \n",
    "II. Recap on pre-work  \n",
    "III. Learning outcomes  \n",
    "\n",
    "\n",
    "__Outline for the session:__\n",
    "\n",
    "1. What is Python? 🐍  \n",
    "2. Intro to JupyterLab  \n",
    "3. Intro to Python\n",
    "    1. Data Types  \n",
    "    2. Variables\n",
    "    3. Data Structures\n",
    "    3. Printing  \n",
    "    4. Math  \n",
    "    5. Packages/Libraries  \n",
    "4. Essential of programming\n",
    "    1. Conditional statements\n",
    "    2. Functions\n",
    "    2. Loops  \n",
    "5. Summary\n",
    "6. Feedback\n",
    "7. References"
   ]
  },
  {
   "cell_type": "markdown",
   "metadata": {},
   "source": [
    "## I. Recap on Pre-Work"
   ]
  },
  {
   "cell_type": "markdown",
   "metadata": {},
   "source": [
    "## II. Learning Outcomes"
   ]
  },
  {
   "cell_type": "markdown",
   "metadata": {},
   "source": [
    "By the end of this lesson, you will:\n",
    "\n",
    "1. Have learned what the Python programming language is and how to use JupyterLab to run programs\n",
    "2. Have learned about the different data types and data structures in Python\n",
    "3. Be comfortable doing basic calculations in Python\n",
    "4. Have learned how variables, loops, functions, and if-else statements work\n",
    "5. Be comfortable creating and running simple programs in Python"
   ]
  },
  {
   "cell_type": "markdown",
   "metadata": {},
   "source": [
    "## 1. What is Python?"
   ]
  },
  {
   "cell_type": "markdown",
   "metadata": {},
   "source": [
    "If natural languages are one of the many ways in which we communicate with one another, programming languages are what we use to communicate with our computers. When you click and interact with websites through a [graphical user interface (GUI)](https://en.wikipedia.org/wiki/Graphical_user_interface), what makes that possible is the code running behind the scenes.\n",
    "\n",
    "This is essentially what python is, a language that allows us to communicate with our computers to do and create useful things. It can also be used in a variety of domains, from developing websites and mobile phone applications, to creating games and analysing data. Although the focus of this course will on the latter category, data analysis, our hope is that by the end of the course, the transition from data analytics to any of the other domains in which python operates, would be a smooth one for you.\n",
    "\n",
    "### A bit of history\n",
    "\n",
    "Python was created in the late 1980's by [Guido van Rossum](https://gvanrossum.github.io/), a retired dutch programmer who's most recent role was at [dropbox](dropbox.com).\n",
    "\n",
    "### Why is it so popular?\n",
    "\n",
    "Python is an excellent language with a lot of funtionalities, but one of its best characteristics is the plethora of [modules](https://docs.python.org/3/tutorial/modules.html) it has available to increase our performance and improve our workflow when analysing data. You can think of these modules or libraries of code as the additional benefits of this language. Here is a metaphor to give you an example, we humans are very awesome just the way we are born (e.g., without clothes, language, knowledge, etc.), but in order to function better in society, and cruise through different stages of our lives, we make use of different languages and objects that provide us with a better experience. The clothes, the accessories, and the languages we use are our added benefits just like modules and packages are Python's benefits.\n",
    "\n",
    "__Note:__ We will be using library, module, and package interchangeably throughout this course.\n",
    "\n",
    "\n",
    "The modules that make up most of the data analytics ecosystem (and the ones we will use the most in this course), are the following ones:\n",
    "\n",
    "### For Data Analysis\n",
    "\n",
    "- [pandas](https://pandas.pydata.org/) -> \"is a fast, powerful, flexible and easy to use open source data analysis and manipulation tool, built on top of the Python programming language.\"\n",
    "\n",
    "- [numpy](https://numpy.org/) -> \"is the fundamental package for scientific computing with Python. It contains among other things, a powerful N-dimensional array object, sophisticated (broadcasting) functions, tools for integrating C/C++ and Fortran code, useful linear algebra, Fourier transform, and random number capabilities.\"\n",
    "\n",
    "- [SciPy](https://www.scipy.org/) -> \"is a Python-based ecosystem of open-source software for mathematics, science, and engineering.\"\n",
    "\n",
    "### For Data Visualisation\n",
    "\n",
    "- [matplotlib](https://matplotlib.org/) -> \"is a comprehensive library for creating static, animated, and interactive visualizations in Python.\"\n",
    "\n",
    "- [seaborn](https://seaborn.pydata.org/) -> \"s a Python data visualization library based on matplotlib. It provides a high-level interface for drawing attractive and informative statistical graphics.\"\n",
    "\n",
    "- [altair](https://altair-viz.github.io/index.html) -> Although Altair has not had the same adoption from the community as the previous two data visualisation libraries, it is a great library for visualising your data.\n",
    "\n",
    "\\* Definitions have been taken straight from the packages respective websites."
   ]
  },
  {
   "cell_type": "markdown",
   "metadata": {},
   "source": [
    "# 2. Introduction to JupyterLab"
   ]
  },
  {
   "cell_type": "markdown",
   "metadata": {},
   "source": [
    "JupyterLab is an [Integrated Development Environment](https://en.wikipedia.org/wiki/Integrated_development_environment) created by the [Jupyter Project](https://jupyter.org/). It allows you to combine different tools that are paramount for a good coding workflow. For example, you can have the terminal, a Jupyter notebook, and a markdown file for note-taking/documenting your work, as well as others, opened at the same time to improve your workflow as you write code (see image below).\n",
    "\n",
    "![jupyterlab](https://jupyterlab.readthedocs.io/en/latest/_images/interface_jupyterlab.png)\n",
    "**Source** - [https://jupyterlab.readthedocs.io](https://jupyterlab.readthedocs.io)\n",
    "\n",
    "To run code you will use the following two commands:\n",
    "\n",
    "> # Shift + Enter\n",
    "\n",
    "and\n",
    "\n",
    "> # Alt + Enter  \n",
    "\n",
    "The first will run the cell and take you to the next one. If there is no cell underneath the one you just ran, it will insert a new one for you. The second one will run the cell and insert a new one below automatically. Alternatively, you can also run the cells using the play (▶︎) button at the top or with the _Run menu_ on the top left-hand corner.\n",
    "\n",
    "Anything that follows a hash `#` sign is a comment and will not be evaluated by Python. They are useful for documenting your code and letting others know what is happening with every line of code or with every cell.\n",
    "\n",
    "To check the information of a package, function, method, etc., use `?` or `??` at the begining or end of such element, and it will provide you with a lot of information about it.\n",
    "\n",
    "\n",
    "__What you will most often use:__\n",
    "\n",
    "- ***Jupyter Notebooks***\n",
    "\n",
    "Straight from the [Jupiter Project website](https://jupyter.org/): \"The Jupyter Notebook is an open-source web application that allows you to create and share documents that contain live code, equations, visualizations and narrative text. Uses include: data cleaning and transformation, numerical simulation, statistical modeling, data visualization, machine learning, and much more.\"\n",
    "\n",
    "Jupyter notebooks are a great tool for exploratory data analysis, creating educational content, and essentially, making sure you can go over your code as much as you want before moving it to a `.py` file for either production or later use. Which is what you will most-likely need to do to be able to run your code in production or for the later reproducibility of your analyses.\n",
    "\n",
    "- ***Command Line***\n",
    "\n",
    "A [command line interface (CLI)](https://en.wikipedia.org/wiki/Command-line_interface) or terminal, allows us to interact directly with our operating system by writing commands in a textual format as opposed to by clicking and dragging objects in the background through a GUI. \n",
    "\n",
    "There are CLI's or terminals for each operating systems. The most widely used ones are\n",
    "    * Bash\n",
    "    * PowerShell\n",
    "    * CMD (Windows)\n",
    "    * Linux\n",
    "\n",
    "- ***Markdown Documents***\n",
    "\n",
    "\"Markdown is a text-to-HTML conversion tool for web writers. Markdown allows you to write using an easy-to-read, easy-to-write plain text format, then convert it to structurally valid XHTML (or HTML). Thus, “Markdown” is two things: (1) a plain text formatting syntax, and (2) a software tool written in Perl that converts plain text formatting into HTML.\" by [Daring Fireball](https://daringfireball.net/projects/markdown)\n",
    "\n",
    "- ***IPython***\n",
    "\n",
    "IPython is an interactive environment for running python code. It allows you to quickly test code line-by-line before moving it to a full program. Some nice features of IPython are that it lets you know how a function works by providing you not only with a list of its arguments but also with a description of what that argument does. IPython also has the very handy autocomplete funtionality which can save you from a lot of typing, especially when what you are trying to do needs to be fast and iterative. We will be using IPython throughout the course.\n",
    "\n",
    "- ***Tutorials***\n",
    "    * Jupyter Notebook\n",
    "        - [Real Python](https://realpython.com/jupyter-notebook-introduction/)\n",
    "        - [Dataquest](https://www.dataquest.io/blog/jupyter-notebook-tutorial/)\n",
    "        - [YouTube Corey Schafer](https://www.youtube.com/watch?v=HW29067qVWk&t=6s)\n",
    "    * Markdown\n",
    "        - [Daring Fireball](https://daringfireball.net/projects/markdown/)\n",
    "        - [Markdown Guide](https://www.markdownguide.org/)\n",
    "        - You can also go to the pallette-looking command to your left called, `Commands`, and go to `HELP` > `Markdown Reference` for a quick tutorial\n",
    "    * IPython\n",
    "        - [Official Tutorial](https://ipython.readthedocs.io/en/stable/interactive/)"
   ]
  },
  {
   "cell_type": "markdown",
   "metadata": {},
   "source": [
    "# 3. Introduction to Python"
   ]
  },
  {
   "cell_type": "markdown",
   "metadata": {},
   "source": [
    "Here we will walk through some of the most important concepts you will need to know to program in Python, regardless of the domain you decided to pick up this language for.\n",
    "\n",
    "Here we will cover:\n",
    "\n",
    "- Data Types and Data Structures\n",
    "- Variables\n",
    "- Printing\n",
    "- Math\n",
    "- Modules/Packages/Libraries\n",
    "\n",
    "\n",
    "A very helpful tool is the `help()` function. If you pass any function or Python element to it, it will provide you with the documentation of that object. Use it as your best friend throughout the course.\n",
    "\n",
    "One last thing before we begin. Python has a coding philosophy which by no means you need to abide by, but, it does make it easier to collaborate with others that do follow the coding conventions. You can access \"The Zen of Python\" by typing and running `import this` in an empty cell."
   ]
  },
  {
   "cell_type": "code",
   "execution_count": null,
   "metadata": {},
   "outputs": [],
   "source": [
    "import this"
   ]
  },
  {
   "cell_type": "markdown",
   "metadata": {},
   "source": [
    "# 3.1 Data Types"
   ]
  },
  {
   "cell_type": "markdown",
   "metadata": {},
   "source": [
    "Even though everything in Python can be cosidered an object, these objects can be further subdivided into different components. The most important ones are strings, integers, and floating-point numbers. The following"
   ]
  },
  {
   "cell_type": "markdown",
   "metadata": {},
   "source": [
    "# 3.1.1 [Strings](https://docs.python.org/3/library/string.html)"
   ]
  },
  {
   "cell_type": "markdown",
   "metadata": {},
   "source": [
    "Text data is call a `string` in Python. It is very important to learn how to deal with strings from an early stage, especially since it is often the case that the complexity of different datasets increases due to intricate cases of text data. In addition, most of the data we have and collect on a daily basis is unstructured data, meaning not in a nice columnar way like an Excel Spreadsheet. Unstructured data can be text, photos, emails, audio recordings, videos, and data with many other representations that are not easily fitted into a tabular format. Hence, learning how to deal with text data will set you up for success as you keep progressing through the latter in any analytical role.\n",
    "\n",
    "Let's get started with strings."
   ]
  },
  {
   "cell_type": "code",
   "execution_count": 53,
   "metadata": {},
   "outputs": [
    {
     "data": {
      "text/plain": [
       "36"
      ]
     },
     "execution_count": 53,
     "metadata": {},
     "output_type": "execute_result"
    }
   ],
   "source": [
    "6*6\n",
    "\n",
    "\n"
   ]
  },
  {
   "cell_type": "code",
   "execution_count": 51,
   "metadata": {},
   "outputs": [
    {
     "data": {
      "text/plain": [
       "'this is also a string (notice the quotation marks)'"
      ]
     },
     "execution_count": 51,
     "metadata": {},
     "output_type": "execute_result"
    }
   ],
   "source": [
    "'this is also a string (notice the quotation marks)'"
   ]
  },
  {
   "cell_type": "code",
   "execution_count": null,
   "metadata": {},
   "outputs": [],
   "source": [
    "\"this 'string' has something in quotation marks inside of it. Notice how the quotation marks need to be different though!\""
   ]
  },
  {
   "cell_type": "markdown",
   "metadata": {},
   "source": [
    "You can use both kinds of quotation marks together but keep in mind that you cannot start a string with one kind of quotation marks and end it with another, otherwise Python will give you an error. For example:\n",
    "\n",
    "> Yes, you can do this --> \"Hi my name is '__your name__' and I am learning Python\"  ✅\n",
    "\n",
    "> No, don't do this --> \"Hi, 'Python\" is awesome' ❌"
   ]
  },
  {
   "cell_type": "markdown",
   "metadata": {},
   "source": [
    "You can access string elements using a bracket after the string or object holding the string. These elements can be one letter or a group of letters, and the numbers you use to access them are the indices of the string. For example:"
   ]
  },
  {
   "cell_type": "code",
   "execution_count": null,
   "metadata": {},
   "outputs": [],
   "source": [
    "help(print)"
   ]
  },
  {
   "cell_type": "code",
   "execution_count": 7,
   "metadata": {},
   "outputs": [
    {
     "data": {
      "text/plain": [
       "'a'"
      ]
     },
     "execution_count": 7,
     "metadata": {},
     "output_type": "execute_result"
    }
   ],
   "source": [
    "\"What a beautiful day to learn how to program\"[5]"
   ]
  },
  {
   "cell_type": "markdown",
   "metadata": {},
   "source": [
    "Note that Python starts counting indeces from 0, hence, the letter `'a'` above is at index `5` but it is the sixth element of that string.\n",
    "\n",
    "- \"W\" --> 0\n",
    "- \"h\" --> 1\n",
    "- \"a\" --> 2\n",
    "- \"t\" --> 3\n",
    "- \" \" --> 4\n",
    "- \"a\" --> 5"
   ]
  },
  {
   "cell_type": "code",
   "execution_count": 58,
   "metadata": {},
   "outputs": [
    {
     "data": {
      "text/plain": [
       "'What a beautiful day to '"
      ]
     },
     "execution_count": 58,
     "metadata": {},
     "output_type": "execute_result"
    }
   ],
   "source": [
    "\"What a beautiful day to learn how to program\"[0:24]\n",
    "\n",
    "                                              "
   ]
  },
  {
   "cell_type": "markdown",
   "metadata": {},
   "source": [
    "Another cool feature of slicing a range of elements in a data type or structure, is that if we do not specify the first element, e.g. `[:20]`,  Python would know that we are trying to select all elements from the beginning and up to the number we have selected."
   ]
  },
  {
   "cell_type": "code",
   "execution_count": 10,
   "metadata": {},
   "outputs": [
    {
     "data": {
      "text/plain": [
       "'What a beautiful day to '"
      ]
     },
     "execution_count": 10,
     "metadata": {},
     "output_type": "execute_result"
    }
   ],
   "source": [
    "\"What a beautiful day to learn how to program\"[:24]"
   ]
  },
  {
   "cell_type": "markdown",
   "metadata": {},
   "source": [
    "The same functionality applies to the end of a data type or structure. If we do not specify a number at the end of a slicing notations, it will go all the way to the end of the object."
   ]
  },
  {
   "cell_type": "code",
   "execution_count": 15,
   "metadata": {},
   "outputs": [
    {
     "ename": "SyntaxError",
     "evalue": "EOL while scanning string literal (<ipython-input-15-c4b83ed695ca>, line 1)",
     "output_type": "error",
     "traceback": [
      "\u001b[1;36m  File \u001b[1;32m\"<ipython-input-15-c4b83ed695ca>\"\u001b[1;36m, line \u001b[1;32m1\u001b[0m\n\u001b[1;33m    \"What a beautiful day to learn\u001b[0m\n\u001b[1;37m                                  ^\u001b[0m\n\u001b[1;31mSyntaxError\u001b[0m\u001b[1;31m:\u001b[0m EOL while scanning string literal\n"
     ]
    }
   ],
   "source": [
    "\"What a beautiful day to learn\n",
    "how to program\"[0:38]"
   ]
  },
  {
   "cell_type": "markdown",
   "metadata": {},
   "source": [
    "Lastly, it is important to note that the last number in a slice is never included in the results. For example, notice below how the number 4, representing the element in position 5, was a space (remember, Python starts counting from zero) was not included in the evaluation of the cell. If you change the 4 to a 5, it will then include the space between `\"What\"` and `\"a\"`."
   ]
  },
  {
   "cell_type": "code",
   "execution_count": 17,
   "metadata": {},
   "outputs": [
    {
     "data": {
      "text/plain": [
       "'What '"
      ]
     },
     "execution_count": 17,
     "metadata": {},
     "output_type": "execute_result"
    }
   ],
   "source": [
    "\"What a beautiful day to learn how to program\"[:5]"
   ]
  },
  {
   "cell_type": "markdown",
   "metadata": {},
   "source": [
    "If you ever wonder how many characters (including white space and punctuations) are in any given string, you can use a function called `len()`. You put inside of the parentheses whatever it is you are evaluating, and it will give you back a single number for the addition of all of the characters in it. Len implies length of an object."
   ]
  },
  {
   "cell_type": "code",
   "execution_count": 18,
   "metadata": {},
   "outputs": [
    {
     "data": {
      "text/plain": [
       "44"
      ]
     },
     "execution_count": 18,
     "metadata": {},
     "output_type": "execute_result"
    }
   ],
   "source": [
    "len(\"What a beautiful day to learn how to program\")"
   ]
  },
  {
   "cell_type": "markdown",
   "metadata": {},
   "source": [
    "To create or print strings with multiple lines, you can add the `\\n` to the part of the string you would like to separate, or you can use three of the same quotation marks before and after the string you would like to create. The latter will become very useful for documenting what your functions do in the future."
   ]
  },
  {
   "cell_type": "code",
   "execution_count": 19,
   "metadata": {},
   "outputs": [
    {
     "name": "stdout",
     "output_type": "stream",
     "text": [
      "This string\n",
      "will be separated\n",
      "into three lines!!!\n"
     ]
    }
   ],
   "source": [
    "print(\"This string\\nwill be separated\\ninto three lines!!!\")"
   ]
  },
  {
   "cell_type": "code",
   "execution_count": 20,
   "metadata": {},
   "outputs": [
    {
     "name": "stdout",
     "output_type": "stream",
     "text": [
      "Dear student,\n",
      "\n",
      "We are super excited \n",
      "to have you in this course.\n",
      "\n",
      "Sincerely,\n",
      "The Coder Team\n",
      "\n"
     ]
    }
   ],
   "source": [
    "print(\"\"\"Dear student,\n",
    "\n",
    "We are super excited \\nto have you in this course.\n",
    "\n",
    "Sincerely,\n",
    "The Coder Team\n",
    "\"\"\")"
   ]
  },
  {
   "cell_type": "markdown",
   "metadata": {},
   "source": [
    "# 3.1.2 [Numeric Types](https://docs.python.org/3/library/stdtypes.html)"
   ]
  },
  {
   "cell_type": "markdown",
   "metadata": {},
   "source": [
    "# 3.1.2.1 [Integers](https://en.wikipedia.org/wiki/Integer)"
   ]
  },
  {
   "cell_type": "markdown",
   "metadata": {},
   "source": [
    "Integers are round up numbers, meaning, numbers that have no decimal values at the end."
   ]
  },
  {
   "cell_type": "code",
   "execution_count": 21,
   "metadata": {},
   "outputs": [
    {
     "name": "stdout",
     "output_type": "stream",
     "text": [
      "1\n"
     ]
    },
    {
     "data": {
      "text/plain": [
       "int"
      ]
     },
     "execution_count": 21,
     "metadata": {},
     "output_type": "execute_result"
    }
   ],
   "source": [
    "print(1); type(1)"
   ]
  },
  {
   "cell_type": "code",
   "execution_count": 22,
   "metadata": {},
   "outputs": [
    {
     "name": "stdout",
     "output_type": "stream",
     "text": [
      "17\n"
     ]
    },
    {
     "data": {
      "text/plain": [
       "int"
      ]
     },
     "execution_count": 22,
     "metadata": {},
     "output_type": "execute_result"
    }
   ],
   "source": [
    "print(17); type(17)"
   ]
  },
  {
   "cell_type": "markdown",
   "metadata": {},
   "source": [
    "To convert a string or float values into an integer, you can use the built in Python function `int()`."
   ]
  },
  {
   "cell_type": "code",
   "execution_count": 23,
   "metadata": {},
   "outputs": [
    {
     "data": {
      "text/plain": [
       "100"
      ]
     },
     "execution_count": 23,
     "metadata": {},
     "output_type": "execute_result"
    }
   ],
   "source": [
    "int('100')"
   ]
  },
  {
   "cell_type": "code",
   "execution_count": 24,
   "metadata": {},
   "outputs": [
    {
     "data": {
      "text/plain": [
       "17"
      ]
     },
     "execution_count": 24,
     "metadata": {},
     "output_type": "execute_result"
    }
   ],
   "source": [
    "# Notice that it doesn't matter if the value .5 or higher, int() will do a floor evaluation\n",
    "int(17.7)"
   ]
  },
  {
   "cell_type": "markdown",
   "metadata": {},
   "source": [
    "Something to keep in mind is that when we convert strings into integers, we always need to verify first that our string represents a number."
   ]
  },
  {
   "cell_type": "code",
   "execution_count": 25,
   "metadata": {},
   "outputs": [
    {
     "data": {
      "text/plain": [
       "23"
      ]
     },
     "execution_count": 25,
     "metadata": {},
     "output_type": "execute_result"
    }
   ],
   "source": [
    "# This will work\n",
    "int(\"23\")"
   ]
  },
  {
   "cell_type": "code",
   "execution_count": null,
   "metadata": {},
   "outputs": [],
   "source": [
    "# This will not work\n",
    "int(\"Twenty Three\")\n"
   ]
  },
  {
   "cell_type": "markdown",
   "metadata": {},
   "source": [
    "# 3.1.2.2 [Floats](https://docs.python.org/3/tutorial/floatingpoint.html)"
   ]
  },
  {
   "cell_type": "markdown",
   "metadata": {},
   "source": [
    "Floating-point numbers are numbers with decimals. No decimals and a dot at the end of a number will still evaluate to a float."
   ]
  },
  {
   "cell_type": "code",
   "execution_count": 26,
   "metadata": {},
   "outputs": [
    {
     "name": "stdout",
     "output_type": "stream",
     "text": [
      "1.2\n"
     ]
    }
   ],
   "source": [
    "# This is a float\n",
    "print(1.2)"
   ]
  },
  {
   "cell_type": "code",
   "execution_count": 27,
   "metadata": {},
   "outputs": [
    {
     "data": {
      "text/plain": [
       "float"
      ]
     },
     "execution_count": 27,
     "metadata": {},
     "output_type": "execute_result"
    }
   ],
   "source": [
    "# Chekc its type to make sure\n",
    "type(1.2)"
   ]
  },
  {
   "cell_type": "code",
   "execution_count": 28,
   "metadata": {},
   "outputs": [
    {
     "data": {
      "text/plain": [
       "float"
      ]
     },
     "execution_count": 28,
     "metadata": {},
     "output_type": "execute_result"
    }
   ],
   "source": [
    "# This is a float too\n",
    "type(1.)"
   ]
  },
  {
   "cell_type": "markdown",
   "metadata": {},
   "source": [
    "To convert a regular integer or a string representing a number, you can use the function `float()`."
   ]
  },
  {
   "cell_type": "code",
   "execution_count": 29,
   "metadata": {},
   "outputs": [
    {
     "data": {
      "text/plain": [
       "5.7"
      ]
     },
     "execution_count": 29,
     "metadata": {},
     "output_type": "execute_result"
    }
   ],
   "source": [
    "float(\"5.7\")\n"
   ]
  },
  {
   "cell_type": "code",
   "execution_count": 30,
   "metadata": {},
   "outputs": [
    {
     "data": {
      "text/plain": [
       "10.0"
      ]
     },
     "execution_count": 30,
     "metadata": {},
     "output_type": "execute_result"
    }
   ],
   "source": [
    "float(10)"
   ]
  },
  {
   "cell_type": "markdown",
   "metadata": {},
   "source": [
    "# 3.1.3 Booleans"
   ]
  },
  {
   "cell_type": "markdown",
   "metadata": {},
   "source": [
    "Booleans are data types represented most commonly as True or False evaluations of a statement or several. When we compare numbers or strings with one another, or when we try to find whether a given element is part of a list or dictionary, we are essentially creating booleans.\n",
    "\n",
    "A boolean data type is also treated as a number. Statements that evaluate to True are also equal to the number 1. In contrast, elements or statements that evaluate to False, are also treated as 0.\n",
    "\n",
    "Here is a list of the most commonly used boolean comparison evaluators.\n",
    "\n",
    "| Symbol | Functionality |\n",
    "|------|-----------------|\n",
    "| == | exactly equal to |\n",
    "| > | greater than |\n",
    "| < | less than |\n",
    "| >= | greater than or equal to |\n",
    "| <= | less than or equal to |\n",
    "| != | not equal to |"
   ]
  },
  {
   "cell_type": "code",
   "execution_count": 31,
   "metadata": {},
   "outputs": [
    {
     "data": {
      "text/plain": [
       "True"
      ]
     },
     "execution_count": 31,
     "metadata": {},
     "output_type": "execute_result"
    }
   ],
   "source": [
    "5 > 0"
   ]
  },
  {
   "cell_type": "code",
   "execution_count": 32,
   "metadata": {},
   "outputs": [
    {
     "data": {
      "text/plain": [
       "False"
      ]
     },
     "execution_count": 32,
     "metadata": {},
     "output_type": "execute_result"
    }
   ],
   "source": [
    "7 < 2"
   ]
  },
  {
   "cell_type": "code",
   "execution_count": 33,
   "metadata": {},
   "outputs": [
    {
     "data": {
      "text/plain": [
       "True"
      ]
     },
     "execution_count": 33,
     "metadata": {},
     "output_type": "execute_result"
    }
   ],
   "source": [
    "10 == 10"
   ]
  },
  {
   "cell_type": "code",
   "execution_count": 34,
   "metadata": {},
   "outputs": [
    {
     "data": {
      "text/plain": [
       "True"
      ]
     },
     "execution_count": 34,
     "metadata": {},
     "output_type": "execute_result"
    }
   ],
   "source": [
    "22 != 15 \n"
   ]
  },
  {
   "cell_type": "code",
   "execution_count": 35,
   "metadata": {},
   "outputs": [
    {
     "data": {
      "text/plain": [
       "True"
      ]
     },
     "execution_count": 35,
     "metadata": {},
     "output_type": "execute_result"
    }
   ],
   "source": [
    "4 >= 4\n"
   ]
  },
  {
   "cell_type": "code",
   "execution_count": 36,
   "metadata": {},
   "outputs": [
    {
     "data": {
      "text/plain": [
       "3"
      ]
     },
     "execution_count": 36,
     "metadata": {},
     "output_type": "execute_result"
    }
   ],
   "source": [
    "True + True + True"
   ]
  },
  {
   "cell_type": "code",
   "execution_count": 37,
   "metadata": {},
   "outputs": [
    {
     "data": {
      "text/plain": [
       "1"
      ]
     },
     "execution_count": 37,
     "metadata": {},
     "output_type": "execute_result"
    }
   ],
   "source": [
    "True + False + False"
   ]
  },
  {
   "cell_type": "markdown",
   "metadata": {},
   "source": [
    "Another way to evaluate booleans is with `and` and `or`.\n",
    "\n",
    "`and` will evaluate to True if and only if all of the elements are True."
   ]
  },
  {
   "cell_type": "code",
   "execution_count": 38,
   "metadata": {},
   "outputs": [
    {
     "data": {
      "text/plain": [
       "False"
      ]
     },
     "execution_count": 38,
     "metadata": {},
     "output_type": "execute_result"
    }
   ],
   "source": [
    "True and False"
   ]
  },
  {
   "cell_type": "code",
   "execution_count": 39,
   "metadata": {},
   "outputs": [
    {
     "data": {
      "text/plain": [
       "True"
      ]
     },
     "execution_count": 39,
     "metadata": {},
     "output_type": "execute_result"
    }
   ],
   "source": [
    "# To make comparison statements more legible, you can wrap them around parentheses\n",
    "(1 + 1 == 2) and (10 * 10 == 100)\n"
   ]
  },
  {
   "cell_type": "code",
   "execution_count": 40,
   "metadata": {},
   "outputs": [
    {
     "data": {
      "text/plain": [
       "True"
      ]
     },
     "execution_count": 40,
     "metadata": {},
     "output_type": "execute_result"
    }
   ],
   "source": [
    "# All Trues will always be True\n",
    "True and True and True"
   ]
  },
  {
   "cell_type": "code",
   "execution_count": 41,
   "metadata": {},
   "outputs": [
    {
     "data": {
      "text/plain": [
       "False"
      ]
     },
     "execution_count": 41,
     "metadata": {},
     "output_type": "execute_result"
    }
   ],
   "source": [
    "# But one Falsy can ruin everything\n",
    "('students' != 'teachers') and (1000 / 10 == 100) and (4 - 2 == 3)"
   ]
  },
  {
   "cell_type": "markdown",
   "metadata": {},
   "source": [
    "`or` on the other hand, will evaluate to True as long as there is one statement that is True. If both statements are false, `or` will always print out False."
   ]
  },
  {
   "cell_type": "code",
   "execution_count": 42,
   "metadata": {},
   "outputs": [
    {
     "data": {
      "text/plain": [
       "True"
      ]
     },
     "execution_count": 42,
     "metadata": {},
     "output_type": "execute_result"
    }
   ],
   "source": [
    "False or True"
   ]
  },
  {
   "cell_type": "code",
   "execution_count": 43,
   "metadata": {},
   "outputs": [
    {
     "data": {
      "text/plain": [
       "True"
      ]
     },
     "execution_count": 43,
     "metadata": {},
     "output_type": "execute_result"
    }
   ],
   "source": [
    "(\"job\" == 'job') or ('work' != 'play')"
   ]
  },
  {
   "cell_type": "code",
   "execution_count": 44,
   "metadata": {},
   "outputs": [
    {
     "data": {
      "text/plain": [
       "False"
      ]
     },
     "execution_count": 44,
     "metadata": {},
     "output_type": "execute_result"
    }
   ],
   "source": [
    "# Don't let the True False that are False True confuse you :)\n",
    "False or False\n"
   ]
  },
  {
   "cell_type": "markdown",
   "metadata": {},
   "source": [
    "# 3.2 Variables"
   ]
  },
  {
   "cell_type": "markdown",
   "metadata": {},
   "source": [
    "You want to think of variables as buckets. These buckets can hold anything you need them to hold in Python but they do have some naming conventions we need to be aware of. Let's look at some variables first and visit the naming conventions afterwards."
   ]
  },
  {
   "cell_type": "code",
   "execution_count": 47,
   "metadata": {},
   "outputs": [],
   "source": [
    "variable1 = 1\n"
   ]
  },
  {
   "cell_type": "code",
   "execution_count": 46,
   "metadata": {},
   "outputs": [
    {
     "name": "stdout",
     "output_type": "stream",
     "text": [
      "1\n"
     ]
    },
    {
     "data": {
      "text/plain": [
       "int"
      ]
     },
     "execution_count": 46,
     "metadata": {},
     "output_type": "execute_result"
    }
   ],
   "source": [
    "print(variable1); type(variable1)"
   ]
  },
  {
   "cell_type": "code",
   "execution_count": null,
   "metadata": {},
   "outputs": [],
   "source": [
    "variable2 = 1 + 1 - 2 / 2"
   ]
  },
  {
   "cell_type": "code",
   "execution_count": null,
   "metadata": {},
   "outputs": [],
   "source": [
    "print(variable2); type(variable2)"
   ]
  },
  {
   "cell_type": "code",
   "execution_count": null,
   "metadata": {},
   "outputs": [],
   "source": [
    "variable3 = \"Hi there, this is a variable containing a string.\""
   ]
  },
  {
   "cell_type": "code",
   "execution_count": null,
   "metadata": {},
   "outputs": [],
   "source": [
    "print(variable3); type(variable3)"
   ]
  },
  {
   "cell_type": "markdown",
   "metadata": {},
   "source": [
    "A variable can also hold a variety of things, for example, a list, a list of lists, a dictionary, a dictionary of dictionary (also called a nested dictionary), a list of dictionaries, a dictionary of lists, and many more."
   ]
  },
  {
   "cell_type": "code",
   "execution_count": null,
   "metadata": {},
   "outputs": [],
   "source": [
    "variable4 = [1, 2, 3, 4, 5]\n",
    "print(variable4); type(variable4)"
   ]
  },
  {
   "cell_type": "code",
   "execution_count": null,
   "metadata": {},
   "outputs": [],
   "source": [
    "variable5 = [[1, 2, 3], [4, 5, 6], [7, 8, 9]]\n",
    "print(variable5); type(variable5)"
   ]
  },
  {
   "cell_type": "code",
   "execution_count": null,
   "metadata": {},
   "outputs": [],
   "source": [
    "a_dictionary = {'var1': 1,\n",
    "                'var2': 20,\n",
    "                'var3': 17}\n",
    "print(a_dictionary); type(a_dictionary)"
   ]
  },
  {
   "cell_type": "code",
   "execution_count": null,
   "metadata": {},
   "outputs": [],
   "source": [
    "a_dict_of_lists = {'age': [19, 52, 30],\n",
    "                   'friend': ['Laura', 'Arelis', 'Lorena'],\n",
    "                   'city': ['Rochester', 'Santiago', 'Santo Domingo']}\n",
    "print(a_dict_of_lists); type(a_dict_of_lists)"
   ]
  },
  {
   "cell_type": "code",
   "execution_count": null,
   "metadata": {},
   "outputs": [],
   "source": [
    "print(a_dict_of_lists['friend']); type(a_dict_of_lists['friend'])"
   ]
  },
  {
   "cell_type": "code",
   "execution_count": null,
   "metadata": {},
   "outputs": [],
   "source": [
    "# Notice that if you try to search for a key that is not in the dictionary,\n",
    "# you will receive a KeyError message\n",
    "a_dict_of_lists['seven']"
   ]
  },
  {
   "cell_type": "markdown",
   "metadata": {},
   "source": [
    "Now that we know how variables can be created, let's talk about the naming conventions for variables.\n",
    "\n",
    "__Do's & Dont's__\n",
    "\n",
    "- A variable can only contain letters (uppercase or lowercase), underscores, and numbers  \n",
    "good --> `variable_1`  ✅  \n",
    "bad --> `vari--!#able_@`  ❌\n",
    "- Variables cannot start with numbers  \n",
    "good --> `variable_1`  ✅  \n",
    "bad --> `123_variables`  ❌\n",
    "- Variables are case sensitive  \n",
    "This variable --> `variable_1` <-- is not the same as --> `VARiable_1`\n",
    "- Variables cannot be only numbers  \n",
    "good --> `something45678`  ✅  \n",
    "bad --> `45678` ❌"
   ]
  },
  {
   "cell_type": "markdown",
   "metadata": {},
   "source": [
    "# 3.3 Data Structures"
   ]
  },
  {
   "cell_type": "markdown",
   "metadata": {},
   "source": [
    "# 3.3.1 Lists"
   ]
  },
  {
   "cell_type": "markdown",
   "metadata": {},
   "source": [
    "Lists in Python are some of the most versatile data structures available. They can hold multiple data types at the same time, and they can all be accessed using the same conventions (we will see these later on in the lesson). We usually want to have only one data type per list, but it is important to know that more are allowed as well.\n",
    "\n",
    "To create a list you have to use square brackets `[ ]` and separate the values in them with commas `,`. Let's take a look at several examples with a single data type in each, and several in some."
   ]
  },
  {
   "cell_type": "code",
   "execution_count": null,
   "metadata": {},
   "outputs": [],
   "source": [
    "[1, 2, 3, 4, 5] # this is a list of numbers only"
   ]
  },
  {
   "cell_type": "code",
   "execution_count": null,
   "metadata": {},
   "outputs": [],
   "source": [
    "['Shon', 'Lori', 'Paul', 'Tyler'] # This is a list of strings only"
   ]
  },
  {
   "cell_type": "code",
   "execution_count": null,
   "metadata": {},
   "outputs": [],
   "source": [
    "[True, False, False, True] # this is a list of booleans"
   ]
  },
  {
   "cell_type": "code",
   "execution_count": null,
   "metadata": {},
   "outputs": [],
   "source": [
    "[1, 'Ray', True, 3.7] # this is a very mixed list"
   ]
  },
  {
   "cell_type": "markdown",
   "metadata": {},
   "source": [
    "You can also have nested lists, meaning, lists within lists. These nested lists can also be thought of as matricee. We will see these in more depth on week 2 so for now let's look at two examples to satisfy our curiosity."
   ]
  },
  {
   "cell_type": "code",
   "execution_count": null,
   "metadata": {},
   "outputs": [],
   "source": [
    "[[1, 2, 3], [4, 5, 6], [7, 8, 9]]"
   ]
  },
  {
   "cell_type": "code",
   "execution_count": null,
   "metadata": {},
   "outputs": [],
   "source": [
    "[['Friend', 'Age', 'Town'],\n",
    "['Andrew', 29, 'Kansas City'],\n",
    "['Hanna', 30, 'Denver'],\n",
    "['Kristen', 27, 'New Haven']]"
   ]
  },
  {
   "cell_type": "markdown",
   "metadata": {},
   "source": [
    "# 3.3.2 Dictionaries"
   ]
  },
  {
   "cell_type": "markdown",
   "metadata": {},
   "source": [
    "![dictionary](https://media.giphy.com/media/l2Je66zG6mAAZxgqI/giphy.gif)"
   ]
  },
  {
   "cell_type": "markdown",
   "metadata": {},
   "source": [
    "Dictionaries are analogous data structures to what is called a JSON file. These dictionaries are esentially key-value pairs of data where the key is the variable name (and can be a string or a number), and the value is any kind of data type (e.g. a list, another dictionary, numbers, strings, booleans, etc.).\n",
    "\n",
    "You can initialize a dictionary in several ways:\n",
    "\n",
    "1. You can create a dictionary using brackets `var = {\"key\": value(s)}` \n",
    "\n",
    "2. You can create a dictionary `dict(key = value, key2 = value2` \n",
    "\n",
    "NOTE: The word `dict` in Python is an actual funtion so please make sure you do not call any variable using this term."
   ]
  },
  {
   "cell_type": "code",
   "execution_count": null,
   "metadata": {},
   "outputs": [],
   "source": [
    "{'Friend': 'Alan', \"Age\": 25}"
   ]
  },
  {
   "cell_type": "code",
   "execution_count": null,
   "metadata": {},
   "outputs": [],
   "source": [
    "# You can use numbers as your keys as well\n",
    "{1: \"Hello\", 2: \"I\", 3: \"will\", 4: \"learn\", 5: \"a lot\", 6: \"of Python\", 7: \"today!\"}"
   ]
  },
  {
   "cell_type": "code",
   "execution_count": null,
   "metadata": {},
   "outputs": [],
   "source": [
    "dict(friend = 'Sarah', age = 27)"
   ]
  },
  {
   "cell_type": "markdown",
   "metadata": {},
   "source": [
    "# 3.3.3 Tuples"
   ]
  },
  {
   "cell_type": "markdown",
   "metadata": {},
   "source": [
    "Tuple are lists cousins except that they are immutable. This means that the content of a tuple cannot be altered. What you can do instead is to take the elements in a tupe and unpack them into another data structure, i.e. a list. Tuples are usually denoted with parentheses `()`.\n",
    "\n",
    "You can start tuples in several way:"
   ]
  },
  {
   "cell_type": "code",
   "execution_count": null,
   "metadata": {},
   "outputs": [],
   "source": [
    "one_way = (1, 2, 3)\n",
    "print(one_way, type(one_way))"
   ]
  },
  {
   "cell_type": "code",
   "execution_count": null,
   "metadata": {},
   "outputs": [],
   "source": [
    "another_way = 4, 5, 6\n",
    "print(another_way, type(another_way))"
   ]
  },
  {
   "cell_type": "markdown",
   "metadata": {},
   "source": [
    "A tuple with a single element should always have a comma after the element. Otherwise, Python will evaluate the element by its data type, i.e. `int`, `float`, or `str`."
   ]
  },
  {
   "cell_type": "code",
   "execution_count": null,
   "metadata": {},
   "outputs": [],
   "source": [
    "good_tuple = (1,)\n",
    "print(good_tuple, type(good_tuple))"
   ]
  },
  {
   "cell_type": "code",
   "execution_count": null,
   "metadata": {},
   "outputs": [],
   "source": [
    "bad_tuple = (1)\n",
    "print(bad_tuple, type(bad_tuple))"
   ]
  },
  {
   "cell_type": "markdown",
   "metadata": {},
   "source": [
    "You can select element in the same fashion as with lists but remember that you cannot alter the content of a tuple."
   ]
  },
  {
   "cell_type": "code",
   "execution_count": null,
   "metadata": {},
   "outputs": [],
   "source": [
    "print(one_way[1]) # we can select elements"
   ]
  },
  {
   "cell_type": "code",
   "execution_count": null,
   "metadata": {},
   "outputs": [],
   "source": [
    "one_way[1] = 10 # but we cannot change them"
   ]
  },
  {
   "cell_type": "markdown",
   "metadata": {},
   "source": [
    "To unpack elements in a tuple we need to assign such elements to new variables, create a copy of the tuple and change its data structure."
   ]
  },
  {
   "cell_type": "code",
   "execution_count": null,
   "metadata": {},
   "outputs": [],
   "source": [
    "# Unpacking\n",
    "a, b, c = one_way\n",
    "print(a)\n",
    "# Change a\n",
    "a = 10\n",
    "print(a)\n",
    "print(b)\n",
    "print(c)"
   ]
  },
  {
   "cell_type": "code",
   "execution_count": null,
   "metadata": {},
   "outputs": [],
   "source": [
    "# Change the data structure\n",
    "not_a_tuple = list(one_way)\n",
    "print(not_a_tuple, type(not_a_tuple))\n",
    "not_a_tuple[2] = 15 # it worked :)\n",
    "print(not_a_tuple)"
   ]
  },
  {
   "cell_type": "markdown",
   "metadata": {},
   "source": [
    "# 3.3.4 Sets"
   ]
  },
  {
   "cell_type": "markdown",
   "metadata": {},
   "source": [
    "Sets are somewhat the more strict cousins of lists. While lists allow for multiple data types and structures in them multiple times, sets don't like to have the same data type twice in them and also can't stand its cousins the lists and dictionaries. They do get along with their cousins the tuples.\n",
    "\n",
    "To get a set started, all you need is to create a data structure with a set of brackets `{}`, just like a dictionary, or call the function `set()` on a list."
   ]
  },
  {
   "cell_type": "code",
   "execution_count": null,
   "metadata": {},
   "outputs": [],
   "source": [
    "a_set = {'a', 'b', 'd', 2, 40, 3.4, True,('t', 'r', 'z')}\n",
    "b_set = set([1, 3, 'd'])\n",
    "print(a_set)\n",
    "print(b_set)"
   ]
  },
  {
   "cell_type": "markdown",
   "metadata": {},
   "source": [
    "Another important characteristic of sets is that they are unordered and like to brag about it. So much so, that if you try to print out a set multiple times, you will never find the same value at the same place. Try running the cell above again and have a look at the output.\n",
    "\n",
    "Sets, like lists, tuples, and dictionaries, have methods to add or remove elements from them. Keep in mind though that no matter how many times you try to add an element that already exists in the set, the set will always evaluate only one of the duplicated elements. For example, let's use the method `.add()` on out set `a_set` to add the letter `'a'` again."
   ]
  },
  {
   "cell_type": "code",
   "execution_count": null,
   "metadata": {},
   "outputs": [],
   "source": [
    "print(a_set)\n",
    "a_set.add('a')\n",
    "print(a_set)"
   ]
  },
  {
   "cell_type": "markdown",
   "metadata": {},
   "source": [
    "As you can see, the set won't change no mater how many times you try to add an element that already exists.\n",
    "\n",
    "To remove an element you can use the method `.remove()` on the set and pass in that element you wish to remove as the argument of the method. Please note that if you try to remove an element that does not exist in the set, python will give you back an error."
   ]
  },
  {
   "cell_type": "code",
   "execution_count": null,
   "metadata": {},
   "outputs": [],
   "source": [
    "print(a_set)\n",
    "a_set.remove(2)\n",
    "print(a_set)"
   ]
  },
  {
   "cell_type": "markdown",
   "metadata": {},
   "source": [
    "If you do not wish to see an error but rather nothing if an element you wish to remove does not exist in a set, you can use the set method called, `.discard()`. It works exactly like the `.remove()` but without raising an error."
   ]
  },
  {
   "cell_type": "code",
   "execution_count": null,
   "metadata": {},
   "outputs": [],
   "source": [
    "print(a_set)\n",
    "a_set.discard(57) # no error will be raised\n",
    "print(a_set)"
   ]
  },
  {
   "cell_type": "markdown",
   "metadata": {},
   "source": [
    "There are a few more useful functionalities of sets that we will explore later on. Such functionalities are:\n",
    "\n",
    "1. `.clear()` - allows us to delete every element in a set, leaving behind an empty set of len() == 0\n",
    "2. `.union()` - combines two sets into one\n",
    "3. `.intersection()` - gives you a new set with elements common to both sets\n",
    "4. `.difference()` - gives you a new set with elements in the original set that or not in the set passed as argument\n",
    "5. `.symmetric_difference()` - gives you a new set with elements in either one set or the other, but not in both"
   ]
  },
  {
   "cell_type": "markdown",
   "metadata": {},
   "source": [
    "# 3.4 Printing"
   ]
  },
  {
   "cell_type": "markdown",
   "metadata": {},
   "source": [
    "Out of all of the things you will do with python, printing is probably one of the most common operations out there. You will print and print and print values many times to evaluate and test your model's performance, the instantiation of an object or the proper assignment of a variable.\n",
    "\n",
    "In this section, we will cover three methods for printing output after providing a cell with code.\n",
    "\n",
    "The first is the regular method."
   ]
  },
  {
   "cell_type": "code",
   "execution_count": null,
   "metadata": {},
   "outputs": [],
   "source": [
    "print(\"This is regular printing job\")"
   ]
  },
  {
   "cell_type": "code",
   "execution_count": null,
   "metadata": {},
   "outputs": [],
   "source": [
    "variable = \"okay\"\n",
    "print(f\"This and f printing job {variable}!\")"
   ]
  },
  {
   "cell_type": "code",
   "execution_count": null,
   "metadata": {},
   "outputs": [],
   "source": [
    "print(\"Hi! This is a {var} printing job!\".format(var=\"formatted\"))"
   ]
  },
  {
   "cell_type": "code",
   "execution_count": null,
   "metadata": {},
   "outputs": [],
   "source": [
    "my_age = 27\n",
    "print(f\"I am {my_age} years old!\")"
   ]
  },
  {
   "cell_type": "markdown",
   "metadata": {},
   "source": [
    "##### ***Exercise Prompt***\n",
    "Try variations of all three below. "
   ]
  },
  {
   "cell_type": "markdown",
   "metadata": {},
   "source": [
    "Variation 1"
   ]
  },
  {
   "cell_type": "code",
   "execution_count": 48,
   "metadata": {},
   "outputs": [
    {
     "ename": "SyntaxError",
     "evalue": "unexpected EOF while parsing (<ipython-input-48-0ed531b87d31>, line 2)",
     "output_type": "error",
     "traceback": [
      "\u001b[1;36m  File \u001b[1;32m\"<ipython-input-48-0ed531b87d31>\"\u001b[1;36m, line \u001b[1;32m2\u001b[0m\n\u001b[1;33m    print(f'It will be hot tomorrow {variable}!'\u001b[0m\n\u001b[1;37m                                                ^\u001b[0m\n\u001b[1;31mSyntaxError\u001b[0m\u001b[1;31m:\u001b[0m unexpected EOF while parsing\n"
     ]
    }
   ],
   "source": [
    "variable = 'very'\n",
    "print(f'It will be hot tomorrow {variable}!'"
   ]
  },
  {
   "cell_type": "markdown",
   "metadata": {},
   "source": [
    "Variation 2"
   ]
  },
  {
   "cell_type": "code",
   "execution_count": null,
   "metadata": {},
   "outputs": [],
   "source": []
  },
  {
   "cell_type": "markdown",
   "metadata": {},
   "source": [
    "Variation 3"
   ]
  },
  {
   "cell_type": "code",
   "execution_count": null,
   "metadata": {},
   "outputs": [],
   "source": []
  },
  {
   "cell_type": "markdown",
   "metadata": {},
   "source": [
    "There is one another way to print values coming from specific data types and that is with percentage signs inside a string. For example, a `%s` inside a string and a `%` outside of one will point to the nearest object of that data type NOTE: s is for string, i is for integer and f is for float. Let's look at three examples of this."
   ]
  },
  {
   "cell_type": "code",
   "execution_count": null,
   "metadata": {},
   "outputs": [],
   "source": [
    "my_age = 27\n",
    "print(\"Hi, Everyone! My name is Ramon and I am %i young! :)\" % my_age)"
   ]
  },
  {
   "cell_type": "code",
   "execution_count": null,
   "metadata": {},
   "outputs": [],
   "source": [
    "day = \"Saturday\"\n",
    "month = \"May\"\n",
    "\n",
    "print(\"This course began on the first %s of the month of %s, 2020.\" % (day, month))\n",
    "# don't forget to wrap the arguments after the % sign in parenthesis"
   ]
  },
  {
   "cell_type": "code",
   "execution_count": null,
   "metadata": {},
   "outputs": [],
   "source": [
    "num1 = 1\n",
    "num2 = 3\n",
    "\n",
    "print(\"Have you tried to divide %i by %i and mulply the result, %f, back?\" % (num1, num2, num1 / num2))"
   ]
  },
  {
   "cell_type": "markdown",
   "metadata": {},
   "source": [
    "# 3.4 Math"
   ]
  },
  {
   "cell_type": "markdown",
   "metadata": {},
   "source": [
    "Python supports all kinds of calculations and in this section, we'll go over all of the basic operations this poweful tool can do for us. In order to do math well in Python, you will be using the following notations (some more than others) very often.\n",
    "\n",
    "| Operator | What this does! |\n",
    "|------|---------------------|\n",
    "|  \\+  |  Addition           |\n",
    "|  \\-  |  Subtraction        |\n",
    "|  \\*  |  Multiplication     |\n",
    "|  \\** |  Exponentiation     |\n",
    "|  \\/  |  Division           |\n",
    "|   %  |  Modulo or remainder|\n",
    "|  //  |  Floor division     |\n",
    "\n",
    "\n",
    "Operator is the appropriate terminology of our math enablers. They evaluate some arguments and return a result for us.\n",
    "\n",
    "Expressions, just typing `10 + 20` in a cell or in the interactive shell, represents operators and values that more often than not will end up giving us a number back. Remember that this is very different from strings and other data types. For example, `print(True + True)` will give us a `2` back with a type `int` but writing `print(\"2\" + \"2\")` will give us a `\"22\"` back with a type `str`."
   ]
  },
  {
   "cell_type": "code",
   "execution_count": null,
   "metadata": {},
   "outputs": [],
   "source": [
    "print(True + True)"
   ]
  },
  {
   "cell_type": "code",
   "execution_count": null,
   "metadata": {},
   "outputs": [],
   "source": [
    "# Addition\n",
    "print(6 + 7)"
   ]
  },
  {
   "cell_type": "code",
   "execution_count": null,
   "metadata": {},
   "outputs": [],
   "source": [
    "# Subtraction\n",
    "print(9 - 4)"
   ]
  },
  {
   "cell_type": "code",
   "execution_count": null,
   "metadata": {},
   "outputs": [],
   "source": [
    "# Multiplication\n",
    "print(3 * -2)"
   ]
  },
  {
   "cell_type": "code",
   "execution_count": null,
   "metadata": {},
   "outputs": [],
   "source": [
    "# Division\n",
    "print(24 / 6) # Please note that all divisions will return a float as opposed to an integer"
   ]
  },
  {
   "cell_type": "code",
   "execution_count": null,
   "metadata": {},
   "outputs": [],
   "source": [
    "# Exponentiation\n",
    "print(7 ** 2)"
   ]
  },
  {
   "cell_type": "code",
   "execution_count": null,
   "metadata": {},
   "outputs": [],
   "source": [
    "# Modulo\n",
    "print(21 % 9)"
   ]
  },
  {
   "cell_type": "code",
   "execution_count": null,
   "metadata": {},
   "outputs": [],
   "source": [
    "# Floor division\n",
    "print(21 // 9)"
   ]
  },
  {
   "cell_type": "code",
   "execution_count": null,
   "metadata": {},
   "outputs": [],
   "source": [
    "# Let's do the same but with variables now. Don't forget about PEMDAS\n",
    "# (Parenthesis, Exponents, Multiplication, Division, and Subtraction)\n",
    "\n",
    "# First we create two variables\n",
    "num1 = 7\n",
    "num2 = 3\n",
    "num3 = -5\n",
    "\n",
    "# Then we create a third one by adding the previous two\n",
    "new_var = num1 + num2 + num3\n",
    "print(new_var)"
   ]
  },
  {
   "cell_type": "code",
   "execution_count": null,
   "metadata": {},
   "outputs": [],
   "source": [
    "new_var_2 = num1 * num2\n",
    "print(new_var_2)"
   ]
  },
  {
   "cell_type": "code",
   "execution_count": null,
   "metadata": {},
   "outputs": [],
   "source": [
    "new_var_3 = (num1 * num2) / new_var\n",
    "print(new_var_3)"
   ]
  },
  {
   "cell_type": "code",
   "execution_count": null,
   "metadata": {},
   "outputs": [],
   "source": [
    "new_var_4 = ((num1 * num2) / new_var) ** num2\n",
    "print(new_var_4)"
   ]
  },
  {
   "cell_type": "code",
   "execution_count": null,
   "metadata": {},
   "outputs": [],
   "source": [
    "new_var_5 = (((num1 * num2) / new_var) ** num2) + new_var_3\n",
    "print(new_var_5)"
   ]
  },
  {
   "cell_type": "markdown",
   "metadata": {},
   "source": [
    "We can also add and multiply other data types such as the ones shown previously, strings and booleans, and also lists, numpy arrays (more on numpy on day 2), and a few others that are out of the scope of the course but that I hope you do end up finding more about as you continue to learn Python."
   ]
  },
  {
   "cell_type": "code",
   "execution_count": null,
   "metadata": {},
   "outputs": [],
   "source": [
    "'Coder Academy' * 3"
   ]
  },
  {
   "cell_type": "code",
   "execution_count": null,
   "metadata": {},
   "outputs": [],
   "source": []
  },
  {
   "cell_type": "markdown",
   "metadata": {},
   "source": [
    "String replication rules"
   ]
  },
  {
   "cell_type": "code",
   "execution_count": null,
   "metadata": {},
   "outputs": [],
   "source": []
  },
  {
   "cell_type": "markdown",
   "metadata": {},
   "source": [
    "When you create a variable that points to a unique value or a data structure, you can compute continous math operations on them using the following commands:\n",
    "\n",
    "| Operator |     What this does!             |\n",
    "|----------|---------------------------------|\n",
    "|    \\+=   |  Add and assign                 |\n",
    "|    \\-=   |  Subtraction and assign         |\n",
    "|    \\*=   |  Multiplication and assign      |\n",
    "|    \\**=  |  Exponentiation and assign      |\n",
    "|    \\/=   |  Division and assign            |\n",
    "|     %=   |  Modulo or remainder and assign |\n",
    "|    //=   |  Floor division and assign      |"
   ]
  },
  {
   "cell_type": "code",
   "execution_count": null,
   "metadata": {},
   "outputs": [],
   "source": [
    "a_number = 7"
   ]
  },
  {
   "cell_type": "code",
   "execution_count": null,
   "metadata": {},
   "outputs": [],
   "source": [
    "a_number += 3\n",
    "print(f\"This variable is now {a_number}.\")"
   ]
  },
  {
   "cell_type": "code",
   "execution_count": null,
   "metadata": {},
   "outputs": [],
   "source": [
    "a_number -= 3\n",
    "print(\"But it now went back to being a {}.\".format(a_number))"
   ]
  },
  {
   "cell_type": "code",
   "execution_count": null,
   "metadata": {},
   "outputs": [],
   "source": [
    "a_number /= 7\n",
    "print(\"If we were to divide it by 7 we would get a %i.\" % (a_number))"
   ]
  },
  {
   "cell_type": "code",
   "execution_count": null,
   "metadata": {},
   "outputs": [],
   "source": [
    "a_number *= 20\n",
    "print(\"And if we multiply it by 20 we would then get a {num}\".format(num=a_number))"
   ]
  },
  {
   "cell_type": "code",
   "execution_count": null,
   "metadata": {},
   "outputs": [],
   "source": [
    "a_number %= 7\n",
    "print(f\"The remainder after dividing by 7 would be 🤔 {a_number}\")"
   ]
  },
  {
   "cell_type": "code",
   "execution_count": null,
   "metadata": {},
   "outputs": [],
   "source": [
    "a_number **= 2\n",
    "print(f\"What would happen if we raise 6.0 to the power of 2: {a_number}\")"
   ]
  },
  {
   "cell_type": "markdown",
   "metadata": {},
   "source": [
    "# 3.5 Packages and Libraries"
   ]
  },
  {
   "cell_type": "markdown",
   "metadata": {},
   "source": [
    "Programming languages are very diverse creatures composed of built-in functionalities and add-ons. Thes functionalities and add-ons are code grouped, or groups of functionalities, that are useful for a particular problem or task. This means that when we initiate Python, we don't have all of its most useful tools available on the fly, rather, it lets us pick and choose what we need and when we need it. \n",
    "\n",
    "For example, to use a built-in mathematical function that gets us the square root of a number, we would have to `import` the library `math` first and then call the method `.sqrt(number(s))` on math to get the result we want. We could create our own function to do this, but that would imply we would have to do this everytime we needed a function for a task (\"not very productive\").\n",
    "\n",
    "To import these additional libraries of code we need to use the `import` expression, or a variation/combination of it. Let's go over our previous example."
   ]
  },
  {
   "cell_type": "code",
   "execution_count": null,
   "metadata": {},
   "outputs": [],
   "source": [
    "import math # first import the library you need"
   ]
  },
  {
   "cell_type": "code",
   "execution_count": null,
   "metadata": {},
   "outputs": [],
   "source": [
    "# You can than call its functions by typing the library name dot method\n",
    "math.sqrt(49)"
   ]
  },
  {
   "cell_type": "markdown",
   "metadata": {},
   "source": [
    "Another way to import libraries is by using an alias. This is particularly useful with some library names that are way too long to be typed every single time we need to use their functionality."
   ]
  },
  {
   "cell_type": "code",
   "execution_count": null,
   "metadata": {},
   "outputs": [],
   "source": [
    "# Here we will import math with the alias ma\n",
    "import math as ma"
   ]
  },
  {
   "cell_type": "code",
   "execution_count": null,
   "metadata": {},
   "outputs": [],
   "source": [
    "ma.sqrt(49)"
   ]
  },
  {
   "cell_type": "markdown",
   "metadata": {},
   "source": [
    "Sometimes we only want to use a single function from a library, thus, we don't want to import the whole library if we won't be using it."
   ]
  },
  {
   "cell_type": "code",
   "execution_count": null,
   "metadata": {},
   "outputs": [],
   "source": [
    "# Here is how we can import a standalone function from a library\n",
    "from math import sqrt"
   ]
  },
  {
   "cell_type": "code",
   "execution_count": null,
   "metadata": {},
   "outputs": [],
   "source": [
    "sqrt(49)"
   ]
  },
  {
   "cell_type": "markdown",
   "metadata": {},
   "source": [
    "We can also add aliases to functions of a library, we would have to import the function and the method at the same time and rename it using the same convention `as`."
   ]
  },
  {
   "cell_type": "code",
   "execution_count": null,
   "metadata": {},
   "outputs": [],
   "source": [
    "from math import sqrt as sq"
   ]
  },
  {
   "cell_type": "code",
   "execution_count": null,
   "metadata": {},
   "outputs": [],
   "source": [
    "sq(49)"
   ]
  },
  {
   "cell_type": "markdown",
   "metadata": {},
   "source": [
    "One other thing we could do, but more often than not don't want to do, is to import every functionality of a library as a standalone element that we can use. The reason why we might not want to do this is because we will most-likely have conflicting methods and functions throughout our environment.\n",
    "\n",
    "One reason would be that if we are collaborating with others team members, the practice of importing everything at once could decrease their productivity. If every time they get some code from us they have to go through it and decipher which functions to import or use with a regular (e.g. `library.method()`), this could be a very painful process for your team members."
   ]
  },
  {
   "cell_type": "code",
   "execution_count": null,
   "metadata": {},
   "outputs": [],
   "source": [
    "# Don't do this ⚠️❌⚠️\n",
    "from math import *"
   ]
  },
  {
   "cell_type": "markdown",
   "metadata": {},
   "source": [
    "To figure out which functions are exist in a given package you can call the `dir()` function on the package once you load it into your environment."
   ]
  },
  {
   "cell_type": "code",
   "execution_count": null,
   "metadata": {
    "scrolled": true
   },
   "outputs": [],
   "source": [
    "import math # load package\n",
    "dir(math)"
   ]
  },
  {
   "cell_type": "markdown",
   "metadata": {},
   "source": [
    "With some it is easier to figure out what the function does but with other it is not as easy. One way to check out the information on an object is to use the `help()` function with such object."
   ]
  },
  {
   "cell_type": "code",
   "execution_count": null,
   "metadata": {},
   "outputs": [],
   "source": [
    "help(math.cos)"
   ]
  },
  {
   "cell_type": "markdown",
   "metadata": {},
   "source": [
    "Another way to get information about an object is by using `?` or `??` at the beginning or end of an object."
   ]
  },
  {
   "cell_type": "code",
   "execution_count": null,
   "metadata": {},
   "outputs": [],
   "source": [
    "math.cos??"
   ]
  },
  {
   "cell_type": "code",
   "execution_count": null,
   "metadata": {},
   "outputs": [],
   "source": [
    "math.cos?"
   ]
  },
  {
   "cell_type": "code",
   "execution_count": null,
   "metadata": {},
   "outputs": [],
   "source": [
    "??math.sqrt"
   ]
  },
  {
   "cell_type": "markdown",
   "metadata": {},
   "source": [
    "# 3.5.1 Add pip and conda package installantion guidelines"
   ]
  },
  {
   "cell_type": "markdown",
   "metadata": {},
   "source": [
    "There will be plenty of times where you will need download, or benefit from downloading, a package that is not already installed in your machine. There are several ways for downloading packages in python and the two preffered ones are PIP and Conda.\n",
    "\n",
    "PIP is a python package installer that is usually run in the command line. It uses the following syntax to install a package.\n",
    "\n",
    "```shell\n",
    "$  pip install some_package\n",
    "```\n",
    "\n",
    "NOTE: If you are using a mac you will need to use `pip3` instead of plain `pip`. That is because up until now, most MacOS comes with python 2.7 pre-installed, which means the command pip points to that version of Python.\n",
    "\n",
    "Conda is the package manager of Anaconda. It is very useful to use conda if you plan on continuing to use the Anaconda distribution for coding in python. Here is how the syntax for installing a package with Anaconda looks like.\n",
    "\n",
    "```sh\n",
    "$  conda install -c anaconda statsmodels\n",
    "```\n",
    "\n",
    "To run command line arguments inside the JupyterLab you have to refix any command with a **`!`**, and then run the command as usual."
   ]
  },
  {
   "cell_type": "code",
   "execution_count": null,
   "metadata": {},
   "outputs": [],
   "source": [
    "!pip install pprint"
   ]
  },
  {
   "cell_type": "markdown",
   "metadata": {},
   "source": [
    "# 4. Essentials of Programming"
   ]
  },
  {
   "cell_type": "markdown",
   "metadata": {},
   "source": [
    "There are 3 essential aspects of programming that can help any data analyst understand some of the key elements of computing (solving problems), and automating processes. These are conditional statements, loops, and functions and we will be looking at all three in that order in this section.\n",
    "\n",
    "1. Conditional Statements\n",
    "2. Loops\n",
    "3. Functions"
   ]
  },
  {
   "cell_type": "markdown",
   "metadata": {},
   "source": [
    "# 4.1 Conditional Statements"
   ]
  },
  {
   "cell_type": "markdown",
   "metadata": {},
   "source": [
    "Conditional stamenets, or, as they are often called, if-then statements, allow us to provide our commands and programs with specific criteria in order to do what they have been told to do. If-then statements work alogside booleans, which were first introduced earlier in the lesson and are abstractions of instructions or commands that evaluate to `True` or `False`. They allow us to compare statements, expressions, objects, etc., and essentially give us back 👍🏼 or a 👎🏼 when they finish.\n",
    "\n",
    "Here are the symbols for boolean operations again.\n",
    "\n",
    "\n",
    "| Symbol | Functionality |\n",
    "|------|-----------------|\n",
    "| == | exactly equal to |\n",
    "| > | greater than |\n",
    "| < | less than |\n",
    "| >= | greater than or equal to |\n",
    "| <= | less than or equal to |\n",
    "| != | not equal to |"
   ]
  },
  {
   "cell_type": "code",
   "execution_count": null,
   "metadata": {},
   "outputs": [],
   "source": [
    "13 == 15"
   ]
  },
  {
   "cell_type": "code",
   "execution_count": null,
   "metadata": {},
   "outputs": [],
   "source": [
    "13 < 15"
   ]
  },
  {
   "cell_type": "markdown",
   "metadata": {},
   "source": [
    "Data types can also be compare with each other but notice that this will almost alway evaluate to false since different data types can never be equal. For example:"
   ]
  },
  {
   "cell_type": "code",
   "execution_count": null,
   "metadata": {},
   "outputs": [],
   "source": [
    "5 == 5.7 # int vs float"
   ]
  },
  {
   "cell_type": "code",
   "execution_count": null,
   "metadata": {},
   "outputs": [],
   "source": [
    "5 == '5' # in vs string"
   ]
  },
  {
   "cell_type": "markdown",
   "metadata": {},
   "source": [
    "You can also think of boolean operations as expressions that can reduce large computations, such as a comparison of two formulas, to a single True or False value (e.g. yes, this okay, no, this is not okay).\n",
    "\n",
    "Booleans can also be compared with the following words and symbols: `and`, `or`, `not`, `&`, and `|`. The last two symbols are the equivalent of `and` and `or`, and the `not` operator negates everything. If something is `not True`, then we know it must be `False`."
   ]
  },
  {
   "cell_type": "code",
   "execution_count": null,
   "metadata": {},
   "outputs": [],
   "source": [
    "True | True"
   ]
  },
  {
   "cell_type": "code",
   "execution_count": null,
   "metadata": {},
   "outputs": [],
   "source": [
    "False & False"
   ]
  },
  {
   "cell_type": "code",
   "execution_count": null,
   "metadata": {},
   "outputs": [],
   "source": [
    "not True"
   ]
  },
  {
   "cell_type": "code",
   "execution_count": null,
   "metadata": {},
   "outputs": [],
   "source": [
    "not False"
   ]
  },
  {
   "cell_type": "markdown",
   "metadata": {},
   "source": [
    "To compare expressions it is useful use parentheses around each expression you are comparing. For example:"
   ]
  },
  {
   "cell_type": "code",
   "execution_count": null,
   "metadata": {},
   "outputs": [],
   "source": [
    "(110 >= 25) and (34 < 57)"
   ]
  },
  {
   "cell_type": "code",
   "execution_count": null,
   "metadata": {},
   "outputs": [],
   "source": [
    "110 >= 25 and 34 < 57"
   ]
  },
  {
   "cell_type": "markdown",
   "metadata": {},
   "source": [
    "Now that we know that boolean evaluations can be treated as conditions that are reduced to True or False, or 0 and 1, respectively, we can combine them with if-then statements to test things as we go. Let's have a look at our first example."
   ]
  },
  {
   "cell_type": "code",
   "execution_count": null,
   "metadata": {},
   "outputs": [],
   "source": [
    "friend = 'Mia'\n",
    "age = 25\n",
    "\n",
    "if age == 25:\n",
    "    print(f\"Wow, {friend}, you are half way to 50!\")"
   ]
  },
  {
   "cell_type": "markdown",
   "metadata": {},
   "source": [
    "Since the stamemnt above was True, it evaluated the condition correctly and printed out what we wanted without any issues. What would have happened if the condition would have been False? Let's check that out.\n",
    "\n",
    "Note that `if` statements have to end with a `:` and continue to a 4-space indented line in order to work. This happens automatically after you insert the `:` and press Enter."
   ]
  },
  {
   "cell_type": "code",
   "execution_count": null,
   "metadata": {},
   "outputs": [],
   "source": [
    "if age == 20:\n",
    "    print(f\"Wow, {friend}, you are half way to 50!\")"
   ]
  },
  {
   "cell_type": "markdown",
   "metadata": {},
   "source": [
    "As you can see, nothing happens with the statement. Since it was false, nothing was evaluated. Here is where the `else` statement comes into play. If we want our expression to do something else in the event the first condition was not `True`, we can add `else` and another condition in the same fashion."
   ]
  },
  {
   "cell_type": "code",
   "execution_count": null,
   "metadata": {},
   "outputs": [],
   "source": [
    "if age == 20:\n",
    "    print(f\"Wow, {friend}, you are half way to 50!\")\n",
    "else:\n",
    "    print(\"She is not that age.\")"
   ]
  },
  {
   "cell_type": "markdown",
   "metadata": {},
   "source": [
    "***Exercise Prompt***\n",
    "\n",
    "Come up with any two `if-then` statements you want."
   ]
  },
  {
   "cell_type": "code",
   "execution_count": null,
   "metadata": {},
   "outputs": [],
   "source": []
  },
  {
   "cell_type": "code",
   "execution_count": null,
   "metadata": {},
   "outputs": [],
   "source": []
  },
  {
   "cell_type": "markdown",
   "metadata": {},
   "source": [
    "# 4.2 Loops"
   ]
  },
  {
   "cell_type": "markdown",
   "metadata": {},
   "source": [
    "Loops are one of the most useful tools in any programming language. They allow us to execute commands repeatedly given a criterion or set of instruction, and this functionality is what most often than not, helps us automate from the most mundane to the most complex a task we might encounter.\n",
    "\n",
    "There are different loops one can use in Python but we will focus on `for` loops today. Let's take a look at an example now."
   ]
  },
  {
   "cell_type": "code",
   "execution_count": null,
   "metadata": {},
   "outputs": [],
   "source": [
    "for a_number in [1, 2, 3, 4, 5]:\n",
    "    print(f\"This is number {a_number}\")"
   ]
  },
  {
   "cell_type": "markdown",
   "metadata": {},
   "source": [
    "Let's break down what just happened.\n",
    "\n",
    "1. The `for` command tells Python a loop is about to take place.\n",
    "2. The variable `a_number` can be any word we want to call it. It is a temporary nickname for the item that will be doing things repeadately.\n",
    "3. The `in` statement let's Python know where are temporary variable `a_number` will be doing operating at.\n",
    "4. The `[1, 2, 3, 4, 5]` list can be a variable, a function, a group of words, anything we want to reapeadily pass instructions with or to.\n",
    "5. The `:` is extremely important, it tell Python that we are about to tell it the instructions for our look. It is very important to note that after we press `Enter`, the next line is exactly 4 spaces away from the edge, if we don't have the following statements at this distance, Python will not do anything with the loop.\n",
    "6. The last bit is the instructions we want our loop to do repeatadely. In our case, we want it to `print()` each of the numbers in the list we have provided the loop with.\n",
    "\n",
    "The loop will continue until it has gone through every element in the list. It is very important to understand when our loop will stop or how many times the loop will cruise through the elements with provided.\n",
    "\n",
    "Let's go over a few more examples."
   ]
  },
  {
   "cell_type": "code",
   "execution_count": null,
   "metadata": {},
   "outputs": [],
   "source": [
    "for letter in \"hi there\":\n",
    "    print(letter)"
   ]
  },
  {
   "cell_type": "markdown",
   "metadata": {},
   "source": [
    "If you would like to print the statements in the same line, you can add an `, end=''` at the end of your print function."
   ]
  },
  {
   "cell_type": "code",
   "execution_count": null,
   "metadata": {},
   "outputs": [],
   "source": [
    "for letter in \"hi there\":\n",
    "    print(letter, end='')"
   ]
  },
  {
   "cell_type": "code",
   "execution_count": null,
   "metadata": {},
   "outputs": [],
   "source": [
    "for number in range(10): # the function range \n",
    "    print(number)"
   ]
  },
  {
   "cell_type": "markdown",
   "metadata": {},
   "source": [
    "We can also use loops to create new data structures. For example, a common thing to do in Python is to create an empty list and fill up with data given a criterion. Let's walk over an example together."
   ]
  },
  {
   "cell_type": "code",
   "execution_count": null,
   "metadata": {},
   "outputs": [],
   "source": [
    "some_list = [] # first create an empty list\n",
    "\n",
    "for number in range(20): # initiate your loop\n",
    "    some_list.append(number) # append each number from 0 to 19 (aka 20) to the list\n",
    "    \n",
    "\n",
    "# this statement is not part of your loop\n",
    "print(some_list) # check the list"
   ]
  },
  {
   "cell_type": "markdown",
   "metadata": {},
   "source": [
    "We will continue revisiting loops in every lesson, and every single week, so by the end of the course you will be a looping wizzard! :)"
   ]
  },
  {
   "cell_type": "markdown",
   "metadata": {},
   "source": [
    "# 4.3 Functions"
   ]
  },
  {
   "cell_type": "markdown",
   "metadata": {},
   "source": [
    "Functions can be thought of as the encapsulation of instructions or a command. When we want to create new data types, or simply modify an existing one, we don't want to do that process manually every single time. This is one aspect of programming where functions come in very handy.\n",
    "\n",
    "You have already seen and used different functions throughout this lesson. For example, `print()` and `len()` are functions that already come with Python and thus don't require that we create them from scratch every single time we need them.\n",
    "\n",
    "Other functions, which are technically not called functions but behave as such, are called methods. Earlier when you called the `.append()` on a list object in a loop, you were calling a method that belongs to the data structure list. The difference between regular functions and methods, is that the former can be applied to any object for which the function would do somethig useful with, while the latter is called on an object and usually modifies that object given a set of parameters.\n",
    "\n",
    "Functions can be created with the word `def`, which implies `define`, followed by the name of your function, parentheses `()`, arguments or no arguments, a colon `:`, and the instructions you would like to save. Let's look at some examples together."
   ]
  },
  {
   "cell_type": "code",
   "execution_count": null,
   "metadata": {},
   "outputs": [],
   "source": [
    "# First we start the command with def\n",
    "# We then name our function sum_numbers\n",
    "def sum_numbers(x, y): # we add some parameters inside the parentheses and close with a colon\n",
    "    return x + y # we add and return the two values"
   ]
  },
  {
   "cell_type": "markdown",
   "metadata": {},
   "source": [
    "Now that we have create our function, and we know it can take any two parameters, let's test it out with some numbers."
   ]
  },
  {
   "cell_type": "code",
   "execution_count": null,
   "metadata": {},
   "outputs": [],
   "source": [
    "sum_numbers(5, 3)"
   ]
  },
  {
   "cell_type": "markdown",
   "metadata": {},
   "source": [
    "It worked as intended and we now have a sense of how we can begin automating repetitive tasks. Loops help us do things repeatadely, if then staments allow us to apply logical conditions to our code, and functions help us reuse code more efficiently.\n",
    "\n",
    "This was just a brief introduction of all three concepts. You will be using them all throughout this course."
   ]
  },
  {
   "cell_type": "markdown",
   "metadata": {},
   "source": [
    "# 5. Summary"
   ]
  },
  {
   "cell_type": "markdown",
   "metadata": {},
   "source": [
    "You have learned a great deal today and should be proud of your accomplishments. Let's recap what we have seen thus far.\n",
    "\n",
    "1. To work in and with Python we need to understand the data it understands. These data types can be strings, integers, floating point numbers, and booleans.\n",
    "2. To hold on to data we use a combination of variables and data structures. Variables are like a bucket that holds in information for us, and data structures hold multiple bit of information in them. Data structures can be lists, dictionaries, tuples, and sets.\n",
    "3. A lot of people have written very useful code that we can exploit and save time with. They have packaged their code into libraries and we can download them using `pip` in the command line.\n",
    "4. Doing something repeatadely is called a loop.\n",
    "5. Creating logical conditions to evaluate different arguments, can be accomplished with if-then statements.\n",
    "6. Instead of writing code over and over again, we can put our code into functions for reusabiliy.\n",
    "7. To ask the users of our programs to tell us things, we take advantage of the `input()` function.\n",
    "8. Jupyter lab will be our best friend for writing code.\n",
    "9. Git and GitHub will make sure we never lose our work."
   ]
  },
  {
   "cell_type": "markdown",
   "metadata": {},
   "source": [
    "# 6. Feedback"
   ]
  },
  {
   "cell_type": "markdown",
   "metadata": {},
   "source": [
    "We would really appreciate it if you could please provide us with your feedback from this session by filling a couple of question.\n",
    "\n",
    "> ## [Survey](https://forms.gle/hu2GshG7JA9MsEKKA)"
   ]
  },
  {
   "cell_type": "markdown",
   "metadata": {},
   "source": [
    "# 7. References"
   ]
  },
  {
   "cell_type": "markdown",
   "metadata": {},
   "source": [
    "Sweigart, Al. _Automate the Boring Stuff with Python: Practical Programming for Total Beginners_. No Starch Press, 2020.\n",
    "\n",
    "VanderPlas, Jake. _A Whirlwind Tour of Python_. O'Reilly, 2016."
   ]
  }
 ],
 "metadata": {
  "kernelspec": {
   "display_name": "Python 3",
   "language": "python",
   "name": "python3"
  },
  "language_info": {
   "codemirror_mode": {
    "name": "ipython",
    "version": 3
   },
   "file_extension": ".py",
   "mimetype": "text/x-python",
   "name": "python",
   "nbconvert_exporter": "python",
   "pygments_lexer": "ipython3",
   "version": "3.7.6"
  }
 },
 "nbformat": 4,
 "nbformat_minor": 4
}
